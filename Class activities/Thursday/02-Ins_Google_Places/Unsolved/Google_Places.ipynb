{
 "cells": [
  {
   "cell_type": "code",
   "execution_count": null,
   "metadata": {
    "collapsed": true
   },
   "outputs": [],
   "source": [
    "# Dependencies\n",
    "import requests\n",
    "import json\n",
    "\n",
    "# Google developer API key\n",
    "from config import gkey"
   ]
  },
  {
   "cell_type": "code",
   "execution_count": null,
   "metadata": {
    "collapsed": true
   },
   "outputs": [],
   "source": [
    "# geocoordinates\n",
    "coordinates = \"43.6187102, -116.2146068\"\n",
    "search = \"Chinese\"\n",
    "radius = 8000\n",
    "search_type = \"restaurant\""
   ]
  },
  {
   "cell_type": "code",
   "execution_count": null,
   "metadata": {},
   "outputs": [],
   "source": [
    "# set up a parameters dictionary\n",
    "params = {\n",
    "    \"location\": coordinates,\n",
    "    \"keyword\": search,\n",
    "    \"radius\": radius,\n",
    "    \"type\": search_type,\n",
    "    \"key\": gkey\n",
    "}\n",
    "\n",
    "# base url\n",
    "base_url = \"\"\n",
    "\n",
    "# run a request using our params dictionary\n",
    "response = requests.get()"
   ]
  },
  {
   "cell_type": "code",
   "execution_count": null,
   "metadata": {},
   "outputs": [],
   "source": [
    "# convert response to json\n",
    "places_data = \n",
    "\n",
    "# Print the json (pretty printed)\n",
    "print(json.dumps(places_data, indent=4, sort_keys=True))"
   ]
  },
  {
   "cell_type": "code",
   "execution_count": null,
   "metadata": {},
   "outputs": [],
   "source": [
    "# Print the name and address of the first restaurant that appears"
   ]
  }
 ],
 "metadata": {
  "kernelspec": {
   "display_name": "PythonData",
   "language": "python",
   "name": "pythondata"
  },
  "language_info": {
   "codemirror_mode": {
    "name": "ipython",
    "version": 3
   },
   "file_extension": ".py",
   "mimetype": "text/x-python",
   "name": "python",
   "nbconvert_exporter": "python",
   "pygments_lexer": "ipython3",
   "version": "3.8.5"
  }
 },
 "nbformat": 4,
 "nbformat_minor": 2
}
