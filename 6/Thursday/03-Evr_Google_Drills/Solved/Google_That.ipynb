{
 "cells": [
  {
   "cell_type": "code",
   "execution_count": null,
   "metadata": {},
   "outputs": [],
   "source": [
    "# Create code to answer each of the following questions.\n",
    "# Hint: You will need multiple URLs and multiple API requests.\n",
    "\n",
    "# Dependencies\n",
    "import requests\n",
    "import json\n",
    "\n",
    "# Google API Key\n",
    "from config import gkey\n",
    "\n",
    "# Build base URLs using the Google Maps API\n",
    "# one for Geocode and one for Place\n",
    "base_geocode_url = \"https://maps.googleapis.com/maps/api/geocode/json\"\n",
    "base_place_url = \"https://maps.googleapis.com/maps/api/place/nearbysearch/json\""
   ]
  },
  {
   "cell_type": "code",
   "execution_count": null,
   "metadata": {
    "scrolled": true
   },
   "outputs": [],
   "source": [
    "# 1. What are the geocoordinates (latitude and longitude) of Seattle,\n",
    "# Washington?\n",
    "city = \"Seattle, Washington\"\n",
    "\n",
    "params = {\"address\": city, \"key\": gkey}\n",
    "\n",
    "print(\"Drill #1: The Geocoordinates of Seattle, WA\")\n",
    "\n",
    "# Run request using geocode\n",
    "response = requests.get(base_geocode_url, params=params)\n",
    "\n",
    "# Convert to JSON\n",
    "seattle_geo = response.json()\n",
    "\n",
    "# Print the JSON (pretty printed)\n",
    "# print(json.dumps(seattle_geo, indent=4, sort_keys=True))"
   ]
  },
  {
   "cell_type": "code",
   "execution_count": null,
   "metadata": {},
   "outputs": [],
   "source": [
    "# Extract lat/lng\n",
    "lat = seattle_geo[\"results\"][0][\"geometry\"][\"location\"][\"lat\"]\n",
    "lng = seattle_geo[\"results\"][0][\"geometry\"][\"location\"][\"lng\"]\n",
    "\n",
    "# Print results\n",
    "print(f\"{city}: {lat}, {lng}\")"
   ]
  },
  {
   "cell_type": "code",
   "execution_count": null,
   "metadata": {},
   "outputs": [],
   "source": [
    "# 2. What are the geocoordinates (latitude and longitude) of The White House?\n",
    "# update params dict\n",
    "city = \"The White House\"\n",
    "params[\"address\"] = city\n",
    "\n",
    "print(\"Drill #2: The Geocoordinates of the White House\")\n",
    "\n",
    "# Run request using geocode\n",
    "response = requests.get(base_geocode_url, params=params)\n",
    "\n",
    "# print the response URL, avoid doing for public GitHub repos in order to avoid exposing key\n",
    "#print(response.url)\n",
    "\n",
    "dc_geo = response.json()\n",
    "\n",
    "# Print the JSON (pretty printed)\n",
    "#print(json.dumps(dc_geo, indent=4, sort_keys=True))"
   ]
  },
  {
   "cell_type": "code",
   "execution_count": null,
   "metadata": {},
   "outputs": [],
   "source": [
    "# Extract lat/lng\n",
    "lat = dc_geo[\"results\"][0][\"geometry\"][\"location\"][\"lat\"]\n",
    "lng = dc_geo[\"results\"][0][\"geometry\"][\"location\"][\"lng\"]\n",
    "\n",
    "# Print results\n",
    "print(f\"{city}: {lat}, {lng}\")"
   ]
  },
  {
   "cell_type": "code",
   "execution_count": null,
   "metadata": {},
   "outputs": [],
   "source": [
    "# 3. Find the name and address of a bike store in Seattle, Washington.\n",
    "#    Hint: See https://developers.google.com/places/web-service/supported_types\n",
    "search_type = \"bicycle_store\"\n",
    "seattle_coords = \"47.6062095,-122.3320708\"\n",
    "radius = 8000\n",
    "\n",
    "# rewrite params dict\n",
    "\n",
    "params = {\n",
    "    \"location\": seattle_coords,\n",
    "    \"types\": search_type,\n",
    "    \"radius\": radius,\n",
    "    \"key\": gkey\n",
    "}\n",
    "\n",
    "print(\"Drill #3: A Bike Store in Seattle, WA\")\n",
    "\n",
    "# Run request using Places\n",
    "response = requests.get(base_place_url, params)\n",
    "\n",
    "# print the response URL, avoid doing for public GitHub repos in order to avoid exposing key\n",
    "# print(response.url)\n",
    "\n",
    "seattle_bikes = response.json()\n",
    "\n",
    "# Print the JSON (pretty printed)\n",
    "# print(json.dumps(seattle_bikes, indent=4, sort_keys=True))\n"
   ]
  },
  {
   "cell_type": "code",
   "execution_count": null,
   "metadata": {},
   "outputs": [],
   "source": [
    "# Print the name and address of the first bike shop to appear\n",
    "print(seattle_bikes[\"results\"][0][\"name\"])\n",
    "print(seattle_bikes[\"results\"][0][\"vicinity\"])"
   ]
  },
  {
   "cell_type": "code",
   "execution_count": null,
   "metadata": {},
   "outputs": [],
   "source": [
    "# 4. Find a balloon store near the White House.\n",
    "search = \"Balloon Store\"\n",
    "dc_coords = \"38.8976763,-77.0365298\"\n",
    "\n",
    "# redefine params\n",
    "params = {\n",
    "    \"location\": dc_coords,\n",
    "    \"keyword\": search,\n",
    "    \"radius\": radius,\n",
    "    \"key\": gkey\n",
    "}\n",
    "\n",
    "print(\"Drill #4: A Balloon Store Near the White House\")\n",
    "\n",
    "# Run request using Places\n",
    "dc_balloons = requests.get(base_place_url, params).json()\n",
    "\n",
    "# Print the JSON (pretty printed)\n",
    "# print(json.dumps(dc_balloons, indent=4, sort_keys=True))\n"
   ]
  },
  {
   "cell_type": "code",
   "execution_count": null,
   "metadata": {},
   "outputs": [],
   "source": [
    "# Print the name and address of the first balloon shop that appears\n",
    "print(dc_balloons[\"results\"][0][\"name\"])\n",
    "print(dc_balloons[\"results\"][0][\"vicinity\"])"
   ]
  },
  {
   "cell_type": "code",
   "execution_count": null,
   "metadata": {},
   "outputs": [],
   "source": [
    "# 5. Find the nearest dentist to your house.\n",
    "# Hint: Use Google Maps to find your latitude and Google Places to find\n",
    "# the dentist.\n",
    "\n",
    "# Google geocode to find lat, lng\n",
    "my_address = \"151 Sip Ave\"\n",
    "\n",
    "params = {\n",
    "    \"address\": my_address,\n",
    "    \"key\": gkey\n",
    "}\n",
    "\n",
    "print(\"Drill #5: A Dentist Near My House\")\n",
    "\n",
    "# Run request using Geocode\n",
    "my_geo = requests.get(base_geocode_url, params).json()\n",
    "# Print the JSON (pretty printed)\n",
    "# print(json.dumps(my_geo, indent=4, sort_keys=True))\n",
    "\n",
    "lat = my_geo[\"results\"][0][\"geometry\"][\"location\"][\"lat\"]\n",
    "lng = my_geo[\"results\"][0][\"geometry\"][\"location\"][\"lng\"]"
   ]
  },
  {
   "cell_type": "code",
   "execution_count": null,
   "metadata": {},
   "outputs": [],
   "source": [
    "# Use lat, lng to use Places API to find nearest dentist\n",
    "search = \"dentist\"\n",
    "\n",
    "params = {\n",
    "    \"location\": f\"{lat},{lng}\",\n",
    "    \"types\": search,\n",
    "    \"rankby\": \"distance\",\n",
    "    \"key\": gkey\n",
    "}\n",
    "\n",
    "# Run request using Places\n",
    "response = requests.get(base_place_url, params)\n",
    "\n",
    "# print the response URL, avoid doing for public GitHub repos in order to avoid exposing key\n",
    "# print(response.url)\n",
    "\n",
    "my_dentist = response.json()\n",
    "\n",
    "# Print the JSON (pretty printed)\n",
    "# print(json.dumps(my_dentist, indent=4, sort_keys=True))"
   ]
  },
  {
   "cell_type": "code",
   "execution_count": null,
   "metadata": {},
   "outputs": [],
   "source": [
    "# Print the name and address of the first dentist that appears\n",
    "print(my_dentist[\"results\"][0][\"name\"])\n",
    "print(my_dentist[\"results\"][0][\"vicinity\"])"
   ]
  }
 ],
 "metadata": {
  "kernelspec": {
   "display_name": "PythonData",
   "language": "python",
   "name": "pythondata"
  },
  "language_info": {
   "codemirror_mode": {
    "name": "ipython",
    "version": 3
   },
   "file_extension": ".py",
   "mimetype": "text/x-python",
   "name": "python",
   "nbconvert_exporter": "python",
   "pygments_lexer": "ipython3",
   "version": "3.8.8"
  }
 },
 "nbformat": 4,
 "nbformat_minor": 2
}
