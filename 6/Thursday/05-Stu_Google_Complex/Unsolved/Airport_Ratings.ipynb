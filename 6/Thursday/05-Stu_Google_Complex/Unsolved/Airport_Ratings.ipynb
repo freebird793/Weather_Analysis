{
 "cells": [
  {
   "cell_type": "markdown",
   "metadata": {},
   "source": [
    "In this activity, you are tasked with creating a DataFrame containing the rating of every airport in the top 100 metropolitan areas according to Google Users."
   ]
  },
  {
   "cell_type": "code",
   "execution_count": null,
   "metadata": {
    "collapsed": true
   },
   "outputs": [],
   "source": [
    "# Dependencies\n",
    "import pandas as pd\n",
    "import numpy as np\n",
    "import requests\n",
    "import json\n",
    "\n",
    "# Import API key\n",
    "from config import gkey"
   ]
  },
  {
   "cell_type": "code",
   "execution_count": null,
   "metadata": {
    "collapsed": true
   },
   "outputs": [],
   "source": [
    "# Import cities file into the cities_pd DataFrame\n",
    "cities_pd = pd.read_csv(\"../Resources/cities.csv\")\n",
    "cities_pd.head()"
   ]
  },
  {
   "cell_type": "code",
   "execution_count": null,
   "metadata": {
    "collapsed": true
   },
   "outputs": [],
   "source": [
    "# Add columns for lat, lng, airport name, airport address, airport rating.\n",
    "# Hint: Be sure to specify \"\" as the initial value for each column.\n"
   ]
  },
  {
   "cell_type": "code",
   "execution_count": null,
   "metadata": {},
   "outputs": [],
   "source": [
    "# create a params dict that will be updated with new city each iteration\n",
    "params = {\"key\": gkey}\n",
    "\n",
    "# Loop through the cities_pd and run a lat/long search for each city\n",
    "for index, row in cities_pd.iterrows():\n",
    "    base_url = \"https://maps.googleapis.com/maps/api/geocode/json\"\n",
    "\n",
    "    city = row['City']\n",
    "    state = row['State']\n",
    "\n",
    "    # update address key value\n",
    "    params['address'] = f\"{city},{state}\"\n",
    "\n",
    "    # TODO: make request\n",
    "    cities_lat_lng = requests.get()\n",
    "    \n",
    "    # print the cities_lat_lng url, avoid doing for public github repos in order to avoid exposing key\n",
    "    # print(cities_lat_lng.url)\n",
    "    \n",
    "    # TODO: convert to json\n",
    "    cities_lat_lng = \n",
    "\n",
    "    # TODO update cities_pd with Lat/Lng. Hint: `cities_pd.loc`\n",
    "   \n",
    "\n",
    "# Visualize to confirm lat lng appear\n",
    "cities_pd.head()"
   ]
  },
  {
   "cell_type": "code",
   "execution_count": null,
   "metadata": {},
   "outputs": [],
   "source": [
    "# params dictionary to update each iteration\n",
    "params = {\n",
    "    \"radius\": 50000,\n",
    "    \"types\": \"airport\",\n",
    "    \"keyword\": \"international airport\",\n",
    "    \"key\": gkey\n",
    "}\n",
    "\n",
    "# TODO: Use the lat/lng we recovered to identify airports\n",
    "# Hint: Code is similar to above block (i.e. you will need to use cities_pd.iterrows() again)\n",
    "# Hint: Use the keyword search for \"international+airport\"\n",
    "# Hint: Use a try-except to handle airports that are missing ratings"
   ]
  },
  {
   "cell_type": "code",
   "execution_count": null,
   "metadata": {
    "collapsed": true
   },
   "outputs": [],
   "source": [
    "# Save Data to csv\n",
    "cities_pd.to_csv(\"Airport_Output.csv\")\n",
    "\n",
    "# Visualize to confirm airport data appears\n",
    "cities_pd.head(10)"
   ]
  }
 ],
 "metadata": {
  "anaconda-cloud": {},
  "kernelspec": {
   "display_name": "PythonData",
   "language": "python",
   "name": "pythondata"
  },
  "language_info": {
   "codemirror_mode": {
    "name": "ipython",
    "version": 3
   },
   "file_extension": ".py",
   "mimetype": "text/x-python",
   "name": "python",
   "nbconvert_exporter": "python",
   "pygments_lexer": "ipython3",
   "version": "3.8.8"
  }
 },
 "nbformat": 4,
 "nbformat_minor": 1
}
